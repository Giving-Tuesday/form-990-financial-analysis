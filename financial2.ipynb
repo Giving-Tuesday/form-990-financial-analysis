{
 "cells": [
  {
   "cell_type": "code",
   "execution_count": 1,
   "metadata": {
    "collapsed": true
   },
   "outputs": [],
   "source": [
    "import numpy as np\n",
    "import pandas as pd\n",
    "import sys,os,time\n",
    "import matplotlib.pyplot as plt\n",
    "import seaborn"
   ]
  },
  {
   "cell_type": "code",
   "execution_count": 2,
   "metadata": {},
   "outputs": [
    {
     "name": "stdout",
     "output_type": "stream",
     "text": [
      "990Efile+Operational+Data+2009+to+2015.csv  \u001b[0m\u001b[01;32mmaptest.py\u001b[0m*\r\n",
      "financial2.ipynb                            Sample_Program_Service_Data.csv\r\n",
      "financial.ipynb                             Untitled.ipynb\r\n"
     ]
    }
   ],
   "source": [
    "ls"
   ]
  },
  {
   "cell_type": "code",
   "execution_count": 3,
   "metadata": {},
   "outputs": [
    {
     "name": "stderr",
     "output_type": "stream",
     "text": [
      "/home/phrenk/anaconda3/lib/python3.6/site-packages/IPython/core/interactiveshell.py:2717: DtypeWarning: Columns (3,25) have mixed types. Specify dtype option on import or set low_memory=False.\n",
      "  interactivity=interactivity, compiler=compiler, result=result)\n"
     ]
    }
   ],
   "source": [
    "data=pd.read_csv('990Efile+Operational+Data+2009+to+2015.csv', encoding='latin-1')"
   ]
  },
  {
   "cell_type": "code",
   "execution_count": 334,
   "metadata": {},
   "outputs": [
    {
     "data": {
      "text/plain": [
       "array(['Unnamed: 0', 'EIN', 'NAME', 'DBA', 'FISYR', 'STATE', 'ADDRESS',\n",
       "       'CITY', 'ZIP', 'STYEAR', 'ENDYEAR', 'FORMTYPE', 'GROSSRECEIPTS',\n",
       "       'GROUPRETURN', 'GROUPEXEMPTNUM', 'FORMYEAR', 'DOMICILE', 'WEBSITE',\n",
       "       'URL', 'NteeFinal', 'FORMORGASSOC', 'FORMORGCORP', 'FORMORGTRUST',\n",
       "       'FORMORGOTHER', 'FORMORGOTHERDESC', 'EXEMPT4947A1', 'EXEMPT501C',\n",
       "       'EXEMPT501CNUM', 'EXEMPT501C3', 'EXEMPT527', 'EXEMPTSTATUS',\n",
       "       'MISSION', 'DISCOPS', 'VOTINGMEMBERS', 'INDVOTINGMEMBERS',\n",
       "       'TOTEMPLOYEE', 'TOTVOLUNTEERS', 'CONTRIBCURRENT', 'PSRCURRENT',\n",
       "       'INVINCCURRENT', 'OTHERREVCURRENT', 'TOTALREVCURRENT', 'MEMBERDUES',\n",
       "       'GROSSSALESOTHER', 'SALESCOSTOTHER', 'NETSALESOTHER',\n",
       "       'GROSSINCGAMING', 'GROSSINCFNDEVENTS', 'EXPGAMINGFNDEVENTS',\n",
       "       'NETGAMINGFNDEVENTS', 'GROSSSALESINV', 'SALESCOSTINV',\n",
       "       'NETSALESINV', 'GRANTSPAIDCURRENT', 'MEMBERBENCURRENT',\n",
       "       'SALARIESCURRENT', 'TOTALEXPCURRENT', 'REVLESSEXPCURRENT',\n",
       "       'TOTALASSETSBEGYEAR', 'TOTALASSETSENDYEAR', 'TOTALLIABBEGYEAR',\n",
       "       'TOTALLIABENDYEAR', 'NETASSETSBEGYEAR', 'OTHERASSETSCHANGES',\n",
       "       'NETASSETSENDYEAR', 'CASHBEGYEAR', 'CASHENDYEAR', 'SAVINVBEGYEAR',\n",
       "       'SAVINVENDYEAR', 'CASHINVBEGYEAR', 'CASHINVENDYEAR',\n",
       "       'LANDBLDEQUIPCOST', 'LANDBLDEQUIPDEP', 'LANDBEGYEAR', 'LANDENDYEAR',\n",
       "       'OTHERASSETSBEGYEAR', 'OTHERASSETSENDYEAR', 'TOTALPROGSERVEXP',\n",
       "       'LOBBYING', 'FILINGSTATES', 'PLEDGEGRANTBEGYEAR',\n",
       "       'PLEDGEGRANTENDYEAR', 'ACCTRECBEGYEAR', 'ACCTRECENDYEAR',\n",
       "       'LOANSFROMOFFBEGYEAR', 'LOANSFROMOFFENDYEAR', 'LOANSDQPBEGYEAR',\n",
       "       'LOANSDQPENDYEAR', 'LOANSNOTESBEGYEAR', 'LOANSNOTESENDYEAR',\n",
       "       'INVENTORYBEGYEAR', 'INVENTORYENDYEAR', 'PREEXPBEGYEAR',\n",
       "       'PREEXPENDYEAR', 'INVESTPUBBEGYEAR', 'INVESTPUBENDYEAR',\n",
       "       'INVESTOTHBEGYEAR', 'INVESTOTHENDYEAR', 'INVESTPRGBEGYEAR',\n",
       "       'INVESTPRGENDYEAR', 'INTANASSETSBEGYEAR', 'INTANASSETSENDYEAR',\n",
       "       'TABALSHEETBEGYEAR', 'TABALSHEETENDYEAR', 'ACCTPAYBEGYEAR',\n",
       "       'ACCTPAYENDYEAR', 'GRANTSPAYBEGYEAR', 'GRANTSPAYENDYEAR',\n",
       "       'DEFREVBEGYEAR', 'DEFREVENDYEAR', 'BONDBEGYEAR', 'BONDENDYEAR',\n",
       "       'ESCROWBEGYEAR', 'ESCROWENDYEAR', 'LOANSTOOFFBEGYEAR',\n",
       "       'LOANSTOOFFENDYEAR', 'MORTGAGEBEGYEAR', 'MORTGAGEENDYEAR',\n",
       "       'UNSECNOTESBEGYEAR', 'UNSECNOTESENDYEAR', 'OTHERLIABBEGYEAR',\n",
       "       'OTHERLIABENDYEAR', 'TLBALSHEETBEGYEAR', 'TLBALSHEETENDYEAR',\n",
       "       'URESTNABEGYEAR', 'URESTNAENDYEAR', 'TRESTNABEGYEAR',\n",
       "       'TRESTNAENDYEAR', 'PRESTNABEGYEAR', 'PRESTNAENDYEAR',\n",
       "       'STOCKBEGYEAR', 'STOCKENDYEAR', 'SURPLUSBEGYEAR', 'SURPLUSENDYEAR',\n",
       "       'EARNINGSBEGYEAR', 'EARNINGSENDYEAR', 'TOTNETASSETSBEGYEAR',\n",
       "       'TOTNETASSETSENDYEAR', 'TOTLIABNABEGYEAR', 'TOTLIABNAENDYEAR'], dtype=object)"
      ]
     },
     "execution_count": 334,
     "metadata": {},
     "output_type": "execute_result"
    }
   ],
   "source": [
    "data.columns.values"
   ]
  },
  {
   "cell_type": "code",
   "execution_count": 89,
   "metadata": {},
   "outputs": [
    {
     "data": {
      "text/html": [
       "<div>\n",
       "<style>\n",
       "    .dataframe thead tr:only-child th {\n",
       "        text-align: right;\n",
       "    }\n",
       "\n",
       "    .dataframe thead th {\n",
       "        text-align: left;\n",
       "    }\n",
       "\n",
       "    .dataframe tbody tr th {\n",
       "        vertical-align: top;\n",
       "    }\n",
       "</style>\n",
       "<table border=\"1\" class=\"dataframe\">\n",
       "  <thead>\n",
       "    <tr style=\"text-align: right;\">\n",
       "      <th></th>\n",
       "      <th>Unnamed: 0</th>\n",
       "      <th>EIN</th>\n",
       "      <th>NAME</th>\n",
       "      <th>DBA</th>\n",
       "      <th>FISYR</th>\n",
       "      <th>STATE</th>\n",
       "      <th>ADDRESS</th>\n",
       "      <th>CITY</th>\n",
       "      <th>ZIP</th>\n",
       "      <th>STYEAR</th>\n",
       "      <th>...</th>\n",
       "      <th>STOCKBEGYEAR</th>\n",
       "      <th>STOCKENDYEAR</th>\n",
       "      <th>SURPLUSBEGYEAR</th>\n",
       "      <th>SURPLUSENDYEAR</th>\n",
       "      <th>EARNINGSBEGYEAR</th>\n",
       "      <th>EARNINGSENDYEAR</th>\n",
       "      <th>TOTNETASSETSBEGYEAR</th>\n",
       "      <th>TOTNETASSETSENDYEAR</th>\n",
       "      <th>TOTLIABNABEGYEAR</th>\n",
       "      <th>TOTLIABNAENDYEAR</th>\n",
       "    </tr>\n",
       "  </thead>\n",
       "  <tbody>\n",
       "    <tr>\n",
       "      <th>1518090</th>\n",
       "      <td>1518091</td>\n",
       "      <td>996009110</td>\n",
       "      <td>HAWAII CATTLEMEN'S COUNCIL</td>\n",
       "      <td>NaN</td>\n",
       "      <td>2015</td>\n",
       "      <td>HI</td>\n",
       "      <td>PO BOX 437199</td>\n",
       "      <td>KAMUELA</td>\n",
       "      <td>96743.0</td>\n",
       "      <td>2015-01-01</td>\n",
       "      <td>...</td>\n",
       "      <td>78542.0</td>\n",
       "      <td>78542.0</td>\n",
       "      <td>0.0</td>\n",
       "      <td>0.0</td>\n",
       "      <td>7298.0</td>\n",
       "      <td>161281.0</td>\n",
       "      <td>85840.0</td>\n",
       "      <td>239823.0</td>\n",
       "      <td>85840.0</td>\n",
       "      <td>242125.0</td>\n",
       "    </tr>\n",
       "    <tr>\n",
       "      <th>1518091</th>\n",
       "      <td>1518092</td>\n",
       "      <td>996010300</td>\n",
       "      <td>FRIENDS OF THE MAUI COUNTY LIBRARY</td>\n",
       "      <td>NaN</td>\n",
       "      <td>2015</td>\n",
       "      <td>HI</td>\n",
       "      <td>PO BOX 1017</td>\n",
       "      <td>WAILUKU</td>\n",
       "      <td>96793.0</td>\n",
       "      <td>2015-01-01</td>\n",
       "      <td>...</td>\n",
       "      <td>0.0</td>\n",
       "      <td>0.0</td>\n",
       "      <td>0.0</td>\n",
       "      <td>0.0</td>\n",
       "      <td>0.0</td>\n",
       "      <td>0.0</td>\n",
       "      <td>297792.0</td>\n",
       "      <td>362117.0</td>\n",
       "      <td>297792.0</td>\n",
       "      <td>362117.0</td>\n",
       "    </tr>\n",
       "    <tr>\n",
       "      <th>1518092</th>\n",
       "      <td>1518093</td>\n",
       "      <td>996015793</td>\n",
       "      <td>Hawaii Psychiatric Medical Association</td>\n",
       "      <td>NaN</td>\n",
       "      <td>2015</td>\n",
       "      <td>HI</td>\n",
       "      <td>4348 WAIALAE AVENUE</td>\n",
       "      <td>HONOLULU</td>\n",
       "      <td>96814.0</td>\n",
       "      <td>2015-01-01</td>\n",
       "      <td>...</td>\n",
       "      <td>NaN</td>\n",
       "      <td>NaN</td>\n",
       "      <td>NaN</td>\n",
       "      <td>NaN</td>\n",
       "      <td>NaN</td>\n",
       "      <td>NaN</td>\n",
       "      <td>NaN</td>\n",
       "      <td>NaN</td>\n",
       "      <td>NaN</td>\n",
       "      <td>NaN</td>\n",
       "    </tr>\n",
       "    <tr>\n",
       "      <th>1518093</th>\n",
       "      <td>1518094</td>\n",
       "      <td>996020431</td>\n",
       "      <td>HAWAII DRYWALL TRADE PROMOTION FUND</td>\n",
       "      <td>NaN</td>\n",
       "      <td>2015</td>\n",
       "      <td>HI</td>\n",
       "      <td>222 S VINEYARD STREET NO PH 4</td>\n",
       "      <td>HONOLULU</td>\n",
       "      <td>96813.0</td>\n",
       "      <td>2015-01-01</td>\n",
       "      <td>...</td>\n",
       "      <td>680059.0</td>\n",
       "      <td>707867.0</td>\n",
       "      <td>0.0</td>\n",
       "      <td>0.0</td>\n",
       "      <td>0.0</td>\n",
       "      <td>0.0</td>\n",
       "      <td>680059.0</td>\n",
       "      <td>707867.0</td>\n",
       "      <td>680059.0</td>\n",
       "      <td>707867.0</td>\n",
       "    </tr>\n",
       "    <tr>\n",
       "      <th>1518094</th>\n",
       "      <td>1518095</td>\n",
       "      <td>996078202</td>\n",
       "      <td>JOSEPH CAMPBELL FOUNDATION</td>\n",
       "      <td>ENDOWMENT TRUST</td>\n",
       "      <td>2015</td>\n",
       "      <td>CA</td>\n",
       "      <td>PO BOX 36</td>\n",
       "      <td>SAN ANSELMO</td>\n",
       "      <td>94960.0</td>\n",
       "      <td>2015-01-01</td>\n",
       "      <td>...</td>\n",
       "      <td>NaN</td>\n",
       "      <td>NaN</td>\n",
       "      <td>NaN</td>\n",
       "      <td>NaN</td>\n",
       "      <td>NaN</td>\n",
       "      <td>NaN</td>\n",
       "      <td>NaN</td>\n",
       "      <td>NaN</td>\n",
       "      <td>NaN</td>\n",
       "      <td>NaN</td>\n",
       "    </tr>\n",
       "  </tbody>\n",
       "</table>\n",
       "<p>5 rows × 140 columns</p>\n",
       "</div>"
      ],
      "text/plain": [
       "         Unnamed: 0        EIN                                    NAME  \\\n",
       "1518090     1518091  996009110              HAWAII CATTLEMEN'S COUNCIL   \n",
       "1518091     1518092  996010300      FRIENDS OF THE MAUI COUNTY LIBRARY   \n",
       "1518092     1518093  996015793  Hawaii Psychiatric Medical Association   \n",
       "1518093     1518094  996020431     HAWAII DRYWALL TRADE PROMOTION FUND   \n",
       "1518094     1518095  996078202              JOSEPH CAMPBELL FOUNDATION   \n",
       "\n",
       "                     DBA  FISYR STATE                        ADDRESS  \\\n",
       "1518090              NaN   2015    HI                  PO BOX 437199   \n",
       "1518091              NaN   2015    HI                    PO BOX 1017   \n",
       "1518092              NaN   2015    HI            4348 WAIALAE AVENUE   \n",
       "1518093              NaN   2015    HI  222 S VINEYARD STREET NO PH 4   \n",
       "1518094  ENDOWMENT TRUST   2015    CA                      PO BOX 36   \n",
       "\n",
       "                CITY      ZIP      STYEAR       ...        STOCKBEGYEAR  \\\n",
       "1518090      KAMUELA  96743.0  2015-01-01       ...             78542.0   \n",
       "1518091      WAILUKU  96793.0  2015-01-01       ...                 0.0   \n",
       "1518092     HONOLULU  96814.0  2015-01-01       ...                 NaN   \n",
       "1518093     HONOLULU  96813.0  2015-01-01       ...            680059.0   \n",
       "1518094  SAN ANSELMO  94960.0  2015-01-01       ...                 NaN   \n",
       "\n",
       "        STOCKENDYEAR  SURPLUSBEGYEAR SURPLUSENDYEAR  EARNINGSBEGYEAR  \\\n",
       "1518090      78542.0             0.0            0.0           7298.0   \n",
       "1518091          0.0             0.0            0.0              0.0   \n",
       "1518092          NaN             NaN            NaN              NaN   \n",
       "1518093     707867.0             0.0            0.0              0.0   \n",
       "1518094          NaN             NaN            NaN              NaN   \n",
       "\n",
       "         EARNINGSENDYEAR TOTNETASSETSBEGYEAR TOTNETASSETSENDYEAR  \\\n",
       "1518090         161281.0             85840.0            239823.0   \n",
       "1518091              0.0            297792.0            362117.0   \n",
       "1518092              NaN                 NaN                 NaN   \n",
       "1518093              0.0            680059.0            707867.0   \n",
       "1518094              NaN                 NaN                 NaN   \n",
       "\n",
       "        TOTLIABNABEGYEAR TOTLIABNAENDYEAR  \n",
       "1518090          85840.0         242125.0  \n",
       "1518091         297792.0         362117.0  \n",
       "1518092              NaN              NaN  \n",
       "1518093         680059.0         707867.0  \n",
       "1518094              NaN              NaN  \n",
       "\n",
       "[5 rows x 140 columns]"
      ]
     },
     "execution_count": 89,
     "metadata": {},
     "output_type": "execute_result"
    }
   ],
   "source": [
    "data.tail()"
   ]
  },
  {
   "cell_type": "code",
   "execution_count": 106,
   "metadata": {
    "collapsed": true
   },
   "outputs": [],
   "source": [
    "df1=data[2010<=data['FISYR']]\n",
    "df1=df1[df1['FISYR']<=2014]"
   ]
  },
  {
   "cell_type": "code",
   "execution_count": 6,
   "metadata": {},
   "outputs": [
    {
     "data": {
      "text/plain": [
       "FISYR\n",
       "2010    186323\n",
       "2011    241552\n",
       "2012    273454\n",
       "2013    302999\n",
       "2014    330602\n",
       "dtype: int64"
      ]
     },
     "execution_count": 6,
     "metadata": {},
     "output_type": "execute_result"
    }
   ],
   "source": [
    "df1.groupby('FISYR').size()"
   ]
  },
  {
   "cell_type": "code",
   "execution_count": 152,
   "metadata": {
    "collapsed": true
   },
   "outputs": [],
   "source": [
    "df1[['EIN','FISYR','STYEAR','SALARIESCURRENT','TOTEMPLOYEE','TOTALPROGSERVEXP']].dropna(inplace=True)\n"
   ]
  },
  {
   "cell_type": "code",
   "execution_count": 184,
   "metadata": {
    "collapsed": true
   },
   "outputs": [],
   "source": [
    "t=df1.groupby('EIN')['FISYR'].count()\n",
    "\n",
    "atmp={p:1*(t[p]==5) for p in t.keys()}\n",
    "keep=[bool(atmp[e]) for e in df1['EIN']]\n",
    "npd=df1[keep]\n",
    "\n",
    "t2=npd.groupby('EIN')['FISYR'].unique()\n",
    "atmp={p:1*(len(t2[p])==5) for p in t2.keys()}\n",
    "keep=[bool(atmp[e]) for e in npd['EIN']]\n",
    "\n",
    "npd=npd[keep]"
   ]
  },
  {
   "cell_type": "code",
   "execution_count": 185,
   "metadata": {},
   "outputs": [
    {
     "name": "stdout",
     "output_type": "stream",
     "text": [
      "86462 432310\n"
     ]
    }
   ],
   "source": [
    "unE=npd['EIN'].unique()\n",
    "print(len(unE),len(npd))"
   ]
  },
  {
   "cell_type": "code",
   "execution_count": 186,
   "metadata": {
    "collapsed": true
   },
   "outputs": [],
   "source": [
    "npd['time']=[int(str(d)[-1]) for d in npd['FISYR']]"
   ]
  },
  {
   "cell_type": "code",
   "execution_count": 178,
   "metadata": {
    "collapsed": true
   },
   "outputs": [],
   "source": [
    "cols=['SALARIESCURRENT','TOTEMPLOYEE','TOTALPROGSERVEXP']"
   ]
  },
  {
   "cell_type": "code",
   "execution_count": 223,
   "metadata": {
    "collapsed": true
   },
   "outputs": [],
   "source": [
    "def get_ratios(data):\n",
    "    nyears=len(data)\n",
    "    zeros=[]\n",
    "    for i in range(nyears):\n",
    "        if(data[i]==0):\n",
    "            zeros.append(i)\n",
    "            data[i]=1e-3\n",
    "    iyr=[data[i+1]/data[i] for i in range(nyears-1)]\n",
    "    iyr.append(data[-1]/data[0])\n",
    "    return np.array(iyr)#,zeros #first n-1 are interyear ratio and n is end/beg ratio"
   ]
  },
  {
   "cell_type": "code",
   "execution_count": 225,
   "metadata": {
    "collapsed": true
   },
   "outputs": [],
   "source": [
    "def get_diffs(data):\n",
    "    nyears=len(data)\n",
    "    zeros=[]\n",
    "    iyr=[data[i+1]-data[i] for i in range(nyears-1)]\n",
    "    iyr.append(data[-1]-data[0])\n",
    "    return np.array(iyr)"
   ]
  },
  {
   "cell_type": "code",
   "execution_count": 245,
   "metadata": {},
   "outputs": [
    {
     "data": {
      "text/plain": [
       "array([ 1.,  1.,  1.,  1.,  1.])"
      ]
     },
     "execution_count": 245,
     "metadata": {},
     "output_type": "execute_result"
    }
   ],
   "source": [
    "dat_to_analyze=npd[npd['EIN']==unE[0]].sort_values('time')\n",
    "get_ratios(dat_to_analyze[cols[0]].values)"
   ]
  },
  {
   "cell_type": "code",
   "execution_count": 193,
   "metadata": {
    "collapsed": true
   },
   "outputs": [],
   "source": [
    "ra_e={}\n",
    "Ncols=len(cols)\n",
    "for e in unE:\n",
    "    dat_to_analyze=npd[npd['EIN']==e].sort_values('time')\n",
    "    ra_e[e]={}\n",
    "    for c in cols:\n",
    "        dta=dat_to_analyze[c].values\n",
    "        anal=get_ratios(dta)\n",
    "        ra_e[e][c+' ratio']=anal[0]\n",
    "        ra_e[e][c+' zeros']=anal[1]\n",
    "        "
   ]
  },
  {
   "cell_type": "code",
   "execution_count": 209,
   "metadata": {
    "collapsed": true
   },
   "outputs": [],
   "source": [
    "def func_ratio(npd,c,npda):\n",
    "    orgs_feats=[]\n",
    "    for e in unE:\n",
    "        dat_to_analyze=npd[npd['EIN']==e].sort_values('time')\n",
    "        orgs_feats.append(get_ratios(dat_to_analyze[c].values))\n",
    "    orgs_feats=np.array(orgs_feats)\n",
    "    for i in range(len(orgs_feats[0])):\n",
    "        npda[c+'_ratio_'+str(i+1)]=orgs_feats[:,i]\n",
    "    return npda\n",
    "def func_diff(npd,c,npda):\n",
    "    orgs_feats=[]\n",
    "    for e in unE:\n",
    "        dat_to_analyze=npd[npd['EIN']==e].sort_values('time')\n",
    "        orgs_feats.append(get_diffs(dat_to_analyze[c].values))\n",
    "    orgs_feats=np.array(orgs_feats)\n",
    "    for i in range(len(orgs_feats[0])):\n",
    "        npda[c+'_diff_'+str(i+1)]=orgs_feats[:,i]\n",
    "    return npda"
   ]
  },
  {
   "cell_type": "code",
   "execution_count": 195,
   "metadata": {},
   "outputs": [
    {
     "data": {
      "text/plain": [
       "['SALARIESCURRENT', 'TOTEMPLOYEE', 'TOTALPROGSERVEXP']"
      ]
     },
     "execution_count": 195,
     "metadata": {},
     "output_type": "execute_result"
    }
   ],
   "source": [
    "cols"
   ]
  },
  {
   "cell_type": "code",
   "execution_count": 202,
   "metadata": {
    "collapsed": true
   },
   "outputs": [],
   "source": [
    "npda=pd.DataFrame(data=unE,columns=['EIN'])"
   ]
  },
  {
   "cell_type": "code",
   "execution_count": 323,
   "metadata": {
    "collapsed": true
   },
   "outputs": [],
   "source": [
    "npda=func_ratio(npd,cols[0],npda)"
   ]
  },
  {
   "cell_type": "code",
   "execution_count": 324,
   "metadata": {
    "collapsed": true
   },
   "outputs": [],
   "source": [
    "namecol=npda.columns"
   ]
  },
  {
   "cell_type": "code",
   "execution_count": 325,
   "metadata": {},
   "outputs": [
    {
     "data": {
      "text/plain": [
       "Index(['EIN', 'SALARIESCURRENT_ratio_1', 'SALARIESCURRENT_ratio_2',\n",
       "       'TOTALPROGSERVEXP_ratio_1', 'TOTALPROGSERVEXP_ratio_2',\n",
       "       'TOTALPROGSERVEXP_ratio_3', 'TOTALPROGSERVEXP_ratio_4',\n",
       "       'TOTALPROGSERVEXP_ratio_5', 'SALARIESCURRENT_diff_1',\n",
       "       'SALARIESCURRENT_diff_2', 'SALARIESCURRENT_diff_3',\n",
       "       'SALARIESCURRENT_diff_4', 'SALARIESCURRENT_diff_5',\n",
       "       'TOTEMPLOYEE_diff_1', 'TOTEMPLOYEE_diff_2', 'TOTEMPLOYEE_diff_3',\n",
       "       'TOTEMPLOYEE_diff_4', 'TOTEMPLOYEE_diff_5', 'SALARIESCURRENT_ratio_3',\n",
       "       'SALARIESCURRENT_ratio_4', 'SALARIESCURRENT_ratio_5'],\n",
       "      dtype='object')"
      ]
     },
     "execution_count": 325,
     "metadata": {},
     "output_type": "execute_result"
    }
   ],
   "source": [
    "namecol"
   ]
  },
  {
   "cell_type": "code",
   "execution_count": 333,
   "metadata": {},
   "outputs": [
    {
     "data": {
      "text/plain": [
       "<matplotlib.text.Text at 0x7f10ccdb4a58>"
      ]
     },
     "execution_count": 333,
     "metadata": {},
     "output_type": "execute_result"
    },
    {
     "data": {
      "image/png": "[encoded data removed]",
      "text/plain": [
       "<matplotlib.figure.Figure at 0x7f10cd0fb390>"
      ]
     },
     "metadata": {},
     "output_type": "display_data"
    }
   ],
   "source": [
    "%matplotlib inline\n",
    "c_to_plot='TOTALPROGSERVEXP_ratio_5'\n",
    "c_to_const='TOTALPROGSERVEXP_ratio_5'\n",
    "l_cutoff=0.1\n",
    "h_cutoff=10\n",
    "\n",
    "tmp=npda\n",
    "tmp=tmp[tmp[c_to_const]!=1]\n",
    "tmp=tmp[tmp[c_to_const]<h_cutoff]\n",
    "tmp=tmp[tmp[c_to_const]>l_cutoff]\n",
    "beg_end_exp=np.log(tmp[c_to_plot])\n",
    "\n",
    "plt.hist(beg_end_exp.values)\n",
    "plt.title(r'$Log_{10}$ of 2014/2010 Program Service Expenses')"
   ]
  },
  {
   "cell_type": "code",
   "execution_count": 332,
   "metadata": {},
   "outputs": [
    {
     "name": "stderr",
     "output_type": "stream",
     "text": [
      "/home/phrenk/anaconda3/lib/python3.6/site-packages/ipykernel_launcher.py:9: UserWarning: Boolean Series key will be reindexed to match DataFrame index.\n",
      "  if __name__ == '__main__':\n",
      "/home/phrenk/anaconda3/lib/python3.6/site-packages/ipykernel_launcher.py:10: UserWarning: Boolean Series key will be reindexed to match DataFrame index.\n",
      "  # Remove the CWD from sys.path while we load stuff.\n"
     ]
    },
    {
     "data": {
      "text/plain": [
       "<matplotlib.text.Text at 0x7f10cce77668>"
      ]
     },
     "execution_count": 332,
     "metadata": {},
     "output_type": "execute_result"
    },
    {
     "data": {
      "image/png": "[encoded data removed]",
      "text/plain": [
       "<matplotlib.figure.Figure at 0x7f10ccf36588>"
      ]
     },
     "metadata": {},
     "output_type": "display_data"
    }
   ],
   "source": [
    "c_to_plot='TOTEMPLOYEE_diff_5'\n",
    "c_to_const='TOTALPROGSERVEXP_ratio_5'\n",
    "\n",
    "emp_diff_cutoff=100\n",
    "tmp=npda\n",
    "tmp=tmp[tmp[c_to_const]!=0]\n",
    "tmp=tmp[tmp[c_to_const]<h_cutoff]\n",
    "tmp=tmp[tmp[c_to_const]>l_cutoff]\n",
    "tmp=tmp[npda[c_to_plot]<emp_diff_cutoff]\n",
    "tmp=tmp[npda[c_to_plot]>-emp_diff_cutoff]\n",
    "beg_end_empdiff=tmp[c_to_plot]\n",
    "plt.hist(beg_end_empdiff.values)\n",
    "plt.title(r'Employee number Difference between 2014 and 2010 ')"
   ]
  },
  {
   "cell_type": "code",
   "execution_count": 293,
   "metadata": {},
   "outputs": [
    {
     "name": "stdout",
     "output_type": "stream",
     "text": [
      "-220855.0 787050.0\n"
     ]
    }
   ],
   "source": [
    "print(np.min(npda['TOTEMPLOYEE_diff_5']),np.max(npda['TOTEMPLOYEE_diff_5']))"
   ]
  },
  {
   "cell_type": "code",
   "execution_count": 300,
   "metadata": {},
   "outputs": [
    {
     "data": {
      "text/plain": [
       "Index(['EIN', 'SALARIESCURRENT_ratio_1', 'SALARIESCURRENT_ratio_2',\n",
       "       'TOTALPROGSERVEXP_ratio_1', 'TOTALPROGSERVEXP_ratio_2',\n",
       "       'TOTALPROGSERVEXP_ratio_3', 'TOTALPROGSERVEXP_ratio_4',\n",
       "       'TOTALPROGSERVEXP_ratio_5', 'SALARIESCURRENT_diff_1',\n",
       "       'SALARIESCURRENT_diff_2', 'SALARIESCURRENT_diff_3',\n",
       "       'SALARIESCURRENT_diff_4', 'SALARIESCURRENT_diff_5',\n",
       "       'TOTEMPLOYEE_diff_1', 'TOTEMPLOYEE_diff_2', 'TOTEMPLOYEE_diff_3',\n",
       "       'TOTEMPLOYEE_diff_4', 'TOTEMPLOYEE_diff_5'],\n",
       "      dtype='object')"
      ]
     },
     "execution_count": 300,
     "metadata": {},
     "output_type": "execute_result"
    }
   ],
   "source": [
    "namecol"
   ]
  },
  {
   "cell_type": "code",
   "execution_count": 301,
   "metadata": {},
   "outputs": [
    {
     "data": {
      "text/plain": [
       "'TOTALPROGSERVEXP_ratio_1'"
      ]
     },
     "execution_count": 301,
     "metadata": {},
     "output_type": "execute_result"
    }
   ],
   "source": [
    "namecol[3]"
   ]
  },
  {
   "cell_type": "code",
   "execution_count": 1,
   "metadata": {},
   "outputs": [
    {
     "ename": "NameError",
     "evalue": "name 'plt' is not defined",
     "output_type": "error",
     "traceback": [
      "\u001b[0;31m---------------------------------------------------------------------------\u001b[0m",
      "\u001b[0;31mNameError\u001b[0m                                 Traceback (most recent call last)",
      "\u001b[0;32m<ipython-input-1-ba1c71a798c4>\u001b[0m in \u001b[0;36m<module>\u001b[0;34m()\u001b[0m\n\u001b[1;32m      2\u001b[0m \u001b[0ml_cutoff\u001b[0m\u001b[0;34m=\u001b[0m\u001b[0;36m0.9\u001b[0m\u001b[0;34m\u001b[0m\u001b[0m\n\u001b[1;32m      3\u001b[0m \u001b[0mh_cutoff\u001b[0m\u001b[0;34m=\u001b[0m\u001b[0;36m1.1\u001b[0m\u001b[0;34m\u001b[0m\u001b[0m\n\u001b[0;32m----> 4\u001b[0;31m \u001b[0mfig\u001b[0m\u001b[0;34m=\u001b[0m\u001b[0mplt\u001b[0m\u001b[0;34m.\u001b[0m\u001b[0mfigure\u001b[0m\u001b[0;34m(\u001b[0m\u001b[0;36m4\u001b[0m\u001b[0;34m,\u001b[0m\u001b[0mfigsize\u001b[0m\u001b[0;34m=\u001b[0m\u001b[0;34m(\u001b[0m\u001b[0;36m18\u001b[0m\u001b[0;34m,\u001b[0m\u001b[0;36m4\u001b[0m\u001b[0;34m)\u001b[0m\u001b[0;34m)\u001b[0m\u001b[0;34m\u001b[0m\u001b[0m\n\u001b[0m\u001b[1;32m      5\u001b[0m \u001b[0;32mfor\u001b[0m \u001b[0mi\u001b[0m \u001b[0;32min\u001b[0m \u001b[0mrange\u001b[0m\u001b[0;34m(\u001b[0m\u001b[0;36m0\u001b[0m\u001b[0;34m,\u001b[0m\u001b[0;36m4\u001b[0m\u001b[0;34m)\u001b[0m\u001b[0;34m:\u001b[0m\u001b[0;34m\u001b[0m\u001b[0m\n\u001b[1;32m      6\u001b[0m     \u001b[0mc_to_plot\u001b[0m\u001b[0;34m=\u001b[0m\u001b[0mnamecol\u001b[0m\u001b[0;34m[\u001b[0m\u001b[0;36m3\u001b[0m\u001b[0;34m+\u001b[0m\u001b[0mi\u001b[0m\u001b[0;34m]\u001b[0m\u001b[0;34m\u001b[0m\u001b[0m\n",
      "\u001b[0;31mNameError\u001b[0m: name 'plt' is not defined"
     ]
    }
   ],
   "source": [
    "\n",
    "l_cutoff=0.1\n",
    "h_cutoff=1.1\n",
    "fig=plt.figure(4,figsize=(18,4))\n",
    "for i in range(0,4):\n",
    "    c_to_plot=namecol[3+i]\n",
    "    c_to_const=c_to_plot\n",
    "    \n",
    "    tmp=npda\n",
    "    tmp=tmp[tmp[c_to_const]!=1]\n",
    "    tmp=tmp[tmp[c_to_const]<h_cutoff]\n",
    "    tmp=tmp[tmp[c_to_const]>l_cutoff]\n",
    "    beg_end_exp=np.log(tmp[c_to_plot])\n",
    "    \n",
    "    a=plt.subplot('1'+str(4)+str(i+1))\n",
    "    a.hist(beg_end_exp)\n",
    "    a.set_xlabel('201'+str(i+1)+'/'+'201'+str(i))\n",
    "plt.title(r'$Log_{10}$ of subsequent year ratios of Program Service Expenses')"
   ]
  },
  {
   "cell_type": "code",
   "execution_count": 327,
   "metadata": {},
   "outputs": [
    {
     "data": {
      "text/plain": [
       "<matplotlib.text.Text at 0x7f10cd16bd68>"
      ]
     },
     "execution_count": 327,
     "metadata": {},
     "output_type": "execute_result"
    },
    {
     "data": {
      "image/png": "[encoded data removed]",
      "text/plain": [
       "<matplotlib.figure.Figure at 0x7f10ce11ca20>"
      ]
     },
     "metadata": {},
     "output_type": "display_data"
    }
   ],
   "source": [
    "l_cutoff=0.1\n",
    "h_cutoff=10\n",
    "fig=plt.figure(4,figsize=(18,4))\n",
    "for i in range(0,4):\n",
    "    c_to_plot=namecol[3+i]\n",
    "    c_to_const=c_to_plot\n",
    "    \n",
    "    tmp=npda\n",
    "    tmp=tmp[tmp[c_to_const]!=1]\n",
    "    tmp=tmp[tmp[c_to_const]<h_cutoff]\n",
    "    tmp=tmp[tmp[c_to_const]>l_cutoff]\n",
    "    beg_end_exp=np.log(tmp[c_to_plot])\n",
    "    \n",
    "    a=plt.subplot('1'+str(4)+str(i+1))\n",
    "    a.hist(beg_end_exp)\n",
    "    a.set_xlabel('201'+str(i+1)+'/'+'201'+str(i))\n",
    "plt.title(r'$Log_{10}$ of subsequent year ratios of Program Service Expenses')\n"
   ]
  },
  {
   "cell_type": "code",
   "execution_count": null,
   "metadata": {
    "collapsed": true
   },
   "outputs": [],
   "source": [
    "def get_models(df):\n",
    "    \n"
   ]
  }
 ],
 "metadata": {
  "kernelspec": {
   "display_name": "Python 3",
   "language": "python",
   "name": "python3"
  },
  "language_info": {
   "codemirror_mode": {
    "name": "ipython",
    "version": 3
   },
   "file_extension": ".py",
   "mimetype": "text/x-python",
   "name": "python",
   "nbconvert_exporter": "python",
   "pygments_lexer": "ipython3",
   "version": "3.6.1"
  }
 },
 "nbformat": 4,
 "nbformat_minor": 2
}
