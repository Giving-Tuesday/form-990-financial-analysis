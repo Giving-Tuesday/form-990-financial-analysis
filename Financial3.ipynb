{
 "cells": [
  {
   "cell_type": "markdown",
   "metadata": {},
   "source": [
    "### We create models and flag organizations that seem to struggle based on Program Service Expense ratios\n",
    "\n",
    "The goal of this mini-project was to create a tool that could flag organisations that were seemingly struggling. We decided to look at the ratio of Program Service Expense (PSE) between subsequent years.\n",
    "I.e. $SPE_{2011}(O)/SPE_{2010}(O)$ that is much smaller than $E_{\\text{ over all O}}(SPE_{2011}/SPE_{2010})$ would be evidence for a struggling organisation $O$ in 2011."
   ]
  },
  {
   "cell_type": "code",
   "execution_count": 1,
   "metadata": {
    "collapsed": true
   },
   "outputs": [],
   "source": [
    "import numpy as np\n",
    "import pandas as pd\n",
    "import sys,os,time\n",
    "import matplotlib.pyplot as plt\n",
    "import seaborn"
   ]
  },
  {
   "cell_type": "code",
   "execution_count": 2,
   "metadata": {},
   "outputs": [
    {
     "data": {
      "application/javascript": [
       "IPython.OutputArea.prototype._should_scroll = function(lines) {\n",
       "    return false;\n",
       "}"
      ],
      "text/plain": [
       "<IPython.core.display.Javascript object>"
      ]
     },
     "metadata": {},
     "output_type": "display_data"
    }
   ],
   "source": [
    "%%javascript\n",
    "IPython.OutputArea.prototype._should_scroll = function(lines) {\n",
    "    return false;\n",
    "}"
   ]
  },
  {
   "cell_type": "markdown",
   "metadata": {},
   "source": [
    "We import the data and restrict it to fiscal years between 2010 and 2014 (inclusive). We also drop any rows with missing values for the columns we are interested in."
   ]
  },
  {
   "cell_type": "code",
   "execution_count": 3,
   "metadata": {},
   "outputs": [
    {
     "name": "stderr",
     "output_type": "stream",
     "text": [
      "/home/phrenk/anaconda3/lib/python3.6/site-packages/IPython/core/interactiveshell.py:2717: DtypeWarning: Columns (3,25) have mixed types. Specify dtype option on import or set low_memory=False.\n",
      "  interactivity=interactivity, compiler=compiler, result=result)\n",
      "/home/phrenk/anaconda3/lib/python3.6/site-packages/ipykernel_launcher.py:3: SettingWithCopyWarning: \n",
      "A value is trying to be set on a copy of a slice from a DataFrame\n",
      "\n",
      "See the caveats in the documentation: http://pandas.pydata.org/pandas-docs/stable/indexing.html#indexing-view-versus-copy\n",
      "  This is separate from the ipykernel package so we can avoid doing imports until\n"
     ]
    }
   ],
   "source": [
    "data=pd.read_csv('990Efile+Operational+Data+2009+to+2015.csv', encoding='latin-1')\n",
    "df1=data[(2010<=data['FISYR']) & (data['FISYR']<=2014)]\n",
    "df1[['EIN','FISYR','SALARIESCURRENT','TOTEMPLOYEE','TOTALPROGSERVEXP','NteeFinal']].dropna(inplace=True)\n",
    "data=[]"
   ]
  },
  {
   "cell_type": "markdown",
   "metadata": {},
   "source": [
    "We perform additional cuts by selecting only the organisations that filed one and only one 990 form for every Fiscal year."
   ]
  },
  {
   "cell_type": "code",
   "execution_count": 4,
   "metadata": {
    "collapsed": true
   },
   "outputs": [],
   "source": [
    "t=df1.groupby('EIN')['FISYR'].count()\n",
    "\n",
    "atmp={p:1*(t[p]==5) for p in t.keys()}\n",
    "keep=[bool(atmp[e]) for e in df1['EIN']]\n",
    "npd=df1[keep]\n",
    "\n",
    "t2=npd.groupby('EIN')['FISYR'].unique()\n",
    "atmp={p:1*(len(t2[p])==5) for p in t2.keys()}\n",
    "keep=[bool(atmp[e]) for e in npd['EIN']]\n",
    "\n",
    "#Here we add a new column that indexes the year as an integer from 0 to 4\n",
    "npd=npd[keep]\n",
    "npd['time']=[int(str(d)[-1]) for d in npd['FISYR']]"
   ]
  },
  {
   "cell_type": "markdown",
   "metadata": {},
   "source": [
    "We created a dictionary that relates Nteefinal characters to the major groups."
   ]
  },
  {
   "cell_type": "code",
   "execution_count": 5,
   "metadata": {
    "collapsed": true
   },
   "outputs": [],
   "source": [
    "chartocat={}\n",
    "chartocat['A']=1\n",
    "chartocat['B']=2\n",
    "chartocat['C']=3\n",
    "chartocat['D']=3\n",
    "chartocat['E']=4\n",
    "chartocat['F']=4\n",
    "chartocat['G']=4\n",
    "chartocat['H']=4\n",
    "chartocat['I']=5\n",
    "chartocat['J']=5\n",
    "chartocat['K']=5\n",
    "chartocat['L']=5\n",
    "chartocat['M']=5\n",
    "chartocat['N']=5\n",
    "chartocat['O']=5\n",
    "chartocat['P']=5\n",
    "chartocat['Q']=5\n",
    "chartocat['R']=7\n",
    "chartocat['S']=7\n",
    "chartocat['T']=7\n",
    "chartocat['U']=7\n",
    "chartocat['V']=7\n",
    "chartocat['W']=7\n",
    "chartocat['X']=8\n",
    "chartocat['Y']=9\n",
    "chartocat['Z']=10"
   ]
  },
  {
   "cell_type": "code",
   "execution_count": 6,
   "metadata": {
    "collapsed": true
   },
   "outputs": [],
   "source": [
    "#main columns that we were initially considering. We went with the Program Service Expenses only\n",
    "cols=['SALARIESCURRENT','TOTEMPLOYEE','TOTALPROGSERVEXP']"
   ]
  },
  {
   "cell_type": "markdown",
   "metadata": {},
   "source": [
    "We create another variable in our dataframe which holds the group of the EIN"
   ]
  },
  {
   "cell_type": "code",
   "execution_count": 7,
   "metadata": {
    "collapsed": true
   },
   "outputs": [],
   "source": [
    "npd['group']=np.array([chartocat[str(Ntee)[0].upper()] for Ntee in npd['NteeFinal']])"
   ]
  },
  {
   "cell_type": "markdown",
   "metadata": {},
   "source": [
    "We define a few functions that will be useful"
   ]
  },
  {
   "cell_type": "code",
   "execution_count": 8,
   "metadata": {
    "collapsed": true
   },
   "outputs": [],
   "source": [
    "def get_ratios(data): #given data, an np.array of size=(n_years,n_organization) containing\n",
    "                      # expenses for each orgs at every year, we compute the interyear ratios\n",
    "    nyears=len(data)\n",
    "    zeros=[]\n",
    "    for i in range(nyears):\n",
    "        if(data[i]==0):\n",
    "            zeros.append(i)\n",
    "            data[i]=1e-3\n",
    "    iyr=[data[i+1]/data[i] for i in range(nyears-1)]\n",
    "    iyr.append(data[-1]/data[0])\n",
    "    return np.array(iyr)\n",
    "\n",
    "def func_ratio(npd,c,npd_feat): #given a panda array npd (created above), adds a new column to npd_feat\n",
    "                                #containing the interyear ratios of the column named 'c' (we will chose SPE)\n",
    "    orgs_feats=[]\n",
    "    for e in unE:\n",
    "        dat_to_analyze=npd[npd['EIN']==e].sort_values('time')\n",
    "        orgs_feats.append(get_ratios(dat_to_analyze[c].values))\n",
    "    orgs_feats=np.array(orgs_feats)\n",
    "    for i in range(len(orgs_feats[0])):\n",
    "        npd_feat[c+'_ratio_'+str(i+1)]=orgs_feats[:,i]\n",
    "    return npd_feat"
   ]
  },
  {
   "cell_type": "markdown",
   "metadata": {},
   "source": [
    "Below runs the above function to get a data set with the ratios"
   ]
  },
  {
   "cell_type": "code",
   "execution_count": 9,
   "metadata": {
    "collapsed": true
   },
   "outputs": [],
   "source": [
    "unE=npd['EIN'].unique()\n",
    "npd_feat=pd.DataFrame(data=unE,columns=['EIN'])\n",
    "EINgroup=[]\n",
    "tmp=npd[['EIN','group']]\n",
    "for e in unE:\n",
    "    EINgroup.append(tmp[tmp['EIN']==e]['group'].values[0])\n",
    "npd_feat['group']=EINgroup\n",
    "npd_feat=func_ratio(npd,cols[2],npd_feat)#cols[2] = 'TOTALPROGSERVEXP'"
   ]
  },
  {
   "cell_type": "markdown",
   "metadata": {},
   "source": [
    "With this dataset, we can build a model by looking at the mean ratio and its standard deviation throughout the years. Plotting these (done in the financial2 notebook) shows that the log of their value looks fairly like a Gaussian distribution. Hence we will assume the log(ratio) to be a Gaussian variable with mean and standard deviation determined from this sample.\n",
    "\n",
    "![alt text](ratio_years.png)"
   ]
  },
  {
   "cell_type": "code",
   "execution_count": 10,
   "metadata": {
    "collapsed": true
   },
   "outputs": [],
   "source": [
    "def make_models(year_ratio,group):\n",
    "    models={}\n",
    "    ugroup=np.unique(group)\n",
    "    for g in ugroup:\n",
    "        tmp=np.log(year_ratio[np.where(group==g)[0]])\n",
    "        models[g]=[np.mean(tmp),np.std(tmp)]\n",
    "    return models\n",
    "    "
   ]
  },
  {
   "cell_type": "code",
   "execution_count": 11,
   "metadata": {},
   "outputs": [
    {
     "data": {
      "text/plain": [
       "Index(['EIN', 'group', 'TOTALPROGSERVEXP_ratio_1', 'TOTALPROGSERVEXP_ratio_2',\n",
       "       'TOTALPROGSERVEXP_ratio_3', 'TOTALPROGSERVEXP_ratio_4',\n",
       "       'TOTALPROGSERVEXP_ratio_5'],\n",
       "      dtype='object')"
      ]
     },
     "execution_count": 11,
     "metadata": {},
     "output_type": "execute_result"
    }
   ],
   "source": [
    "npd_feat.columns"
   ]
  },
  {
   "cell_type": "code",
   "execution_count": 12,
   "metadata": {
    "collapsed": true
   },
   "outputs": [],
   "source": [
    "model_list=[]\n",
    "\n",
    "\n",
    "cols=npd_feat.columns\n",
    "for i in range(4):\n",
    "    c=cols[2+i]\n",
    "    #applying cuts to undefined ratios and to remove huge outliers\n",
    "    l_cutoff=0.1\n",
    "    h_cutoff=10\n",
    "    tmp=npd_feat[(npd_feat[c]!=1)& (npd_feat[c]<h_cutoff) & (npd_feat[c]>l_cutoff)]\n",
    "\n",
    "    year=tmp[c].values\n",
    "    group=tmp['group'].values\n",
    "    model_list.append(make_models(year,group))\n",
    "\n",
    "np.save('model_list',model_list)"
   ]
  },
  {
   "cell_type": "markdown",
   "metadata": {},
   "source": [
    "With the yearly model parameter saved, we write a function that outputs the quantile of a ratio of SPE given a yearly model."
   ]
  },
  {
   "cell_type": "code",
   "execution_count": 13,
   "metadata": {
    "collapsed": true
   },
   "outputs": [],
   "source": [
    "from scipy.stats import norm as G_V\n",
    "\n",
    "def query(ratio,model):\n",
    "    logratio=np.log(ratio)\n",
    "    quantile=G_V.cdf(logratio, loc=model[0], scale=model[1])\n",
    "    return quantile"
   ]
  },
  {
   "cell_type": "code",
   "execution_count": 14,
   "metadata": {
    "collapsed": true
   },
   "outputs": [],
   "source": [
    "import matplotlib.pyplot as plt\n",
    "%matplotlib inline"
   ]
  },
  {
   "cell_type": "code",
   "execution_count": 15,
   "metadata": {
    "collapsed": true
   },
   "outputs": [],
   "source": [
    "\n",
    "def thresh_to_loss(thres,model):\n",
    "    return 10**G_V.isf(1-thres,loc=model[0],scale=model[1])"
   ]
  },
  {
   "cell_type": "code",
   "execution_count": 17,
   "metadata": {},
   "outputs": [
    {
     "data": {
      "text/plain": [
       "<matplotlib.text.Text at 0x7f4e86f049e8>"
      ]
     },
     "execution_count": 17,
     "metadata": {},
     "output_type": "execute_result"
    },
    {
     "data": {
      "image/png": "[encoded data removed]",
      "text/plain": [
       "<matplotlib.figure.Figure at 0x7f4e59442588>"
      ]
     },
     "metadata": {},
     "output_type": "display_data"
    }
   ],
   "source": [
    "#This is not very interesting; we expect this to be equal to the threshold value due to how we modeled the data.\n",
    "def yearly_struggle(threshold):\n",
    "    struggle=[]\n",
    "    for i in range(4):\n",
    "        c=cols[2+i]\n",
    "        tmp=npd_feat\n",
    "        tmp=tmp[tmp[c]!=1]\n",
    "        tmp=tmp[tmp[c]<h_cutoff]\n",
    "        tmp=tmp[tmp[c]>l_cutoff]\n",
    "        year=tmp[c].values\n",
    "        group=tmp['group'].values\n",
    "        struggle_count=0\n",
    "        for j in range(len(year)):\n",
    "            model=model_list[i][group[j]]\n",
    "            if(query(year[j],model)<threshold):\n",
    "                struggle_count+=1\n",
    "        struggle.append(struggle_count/len(year))\n",
    "    return struggle\n",
    "\n",
    "year_ratio=['2011/2010','2012/2011','2013/2012','2014/2013']\n",
    "plt.xticks([0,1,2,4], year_ratio)\n",
    "struggle=yearly_struggle(0.05)\n",
    "plt.scatter([0,1,2,4],struggle)\n",
    "plt.title(r'Percentage of Struggling organizations per Year')\n"
   ]
  },
  {
   "cell_type": "code",
   "execution_count": 18,
   "metadata": {
    "scrolled": false
   },
   "outputs": [
    {
     "data": {
      "text/plain": [
       "<matplotlib.text.Text at 0x7f4e8736c358>"
      ]
     },
     "execution_count": 18,
     "metadata": {},
     "output_type": "execute_result"
    },
    {
     "data": {
      "image/png": "[encoded data removed]",
      "text/plain": [
       "<matplotlib.figure.Figure at 0x7f4e8673f7f0>"
      ]
     },
     "metadata": {},
     "output_type": "display_data"
    }
   ],
   "source": [
    "#Shows the relation between SPE ratios and the quantile of the organisation\n",
    "thres=np.linspace(0.001,0.99,100)\n",
    "loss=[thresh_to_loss(t,model=model_list[0][1]) for t in thres]\n",
    "plt.plot(thres,loss)\n",
    "plt.yscale('log')\n",
    "plt.title('Approximate Revenue ratio per quantile')\n",
    "plt.ylabel('2011/2010 ratio')\n",
    "plt.xlabel('Quantile')"
   ]
  },
  {
   "cell_type": "markdown",
   "metadata": {},
   "source": [
    "Now we run the query function over the subset of data we've been playing and use its quantile output to make a new variable in the dataset. We first define a new dataframe *orgs_quantile* which will hold the column 'QUANTILE_PSEratio'. This takes a value of NaN if we did not compute the quantity. For instance, this occurs because the fiscal year is 2010 (and we don't have 2009 to take the ratio).  Ignore the warnings."
   ]
  },
  {
   "cell_type": "code",
   "execution_count": 19,
   "metadata": {
    "scrolled": true
   },
   "outputs": [
    {
     "name": "stderr",
     "output_type": "stream",
     "text": [
      "/home/phrenk/anaconda3/lib/python3.6/site-packages/pandas/core/indexing.py:337: SettingWithCopyWarning: \n",
      "A value is trying to be set on a copy of a slice from a DataFrame.\n",
      "Try using .loc[row_indexer,col_indexer] = value instead\n",
      "\n",
      "See the caveats in the documentation: http://pandas.pydata.org/pandas-docs/stable/indexing.html#indexing-view-versus-copy\n",
      "  self.obj[key] = _infer_fill_value(value)\n",
      "/home/phrenk/anaconda3/lib/python3.6/site-packages/pandas/core/indexing.py:517: SettingWithCopyWarning: \n",
      "A value is trying to be set on a copy of a slice from a DataFrame.\n",
      "Try using .loc[row_indexer,col_indexer] = value instead\n",
      "\n",
      "See the caveats in the documentation: http://pandas.pydata.org/pandas-docs/stable/indexing.html#indexing-view-versus-copy\n",
      "  self.obj[item] = s\n"
     ]
    }
   ],
   "source": [
    "orgs=npd[['EIN','FISYR','TOTALPROGSERVEXP','group']]\n",
    "orgs_quantile=npd[['EIN','FISYR','group']]\n",
    "orgs_quantile.loc[:,'QUANTILE_PSEratio']=np.array([np.NaN for i in range(len(orgs))])"
   ]
  },
  {
   "cell_type": "code",
   "execution_count": 20,
   "metadata": {
    "scrolled": true
   },
   "outputs": [
    {
     "name": "stderr",
     "output_type": "stream",
     "text": [
      "/home/phrenk/anaconda3/lib/python3.6/site-packages/ipykernel_launcher.py:12: UserWarning: Boolean Series key will be reindexed to match DataFrame index.\n",
      "  if sys.path[0] == '':\n",
      "/home/phrenk/anaconda3/lib/python3.6/site-packages/ipykernel_launcher.py:4: RuntimeWarning: invalid value encountered in log\n",
      "  after removing the cwd from sys.path.\n",
      "/home/phrenk/anaconda3/lib/python3.6/site-packages/scipy/stats/_distn_infrastructure.py:879: RuntimeWarning: invalid value encountered in greater\n",
      "  return (self.a < x) & (x < self.b)\n",
      "/home/phrenk/anaconda3/lib/python3.6/site-packages/scipy/stats/_distn_infrastructure.py:879: RuntimeWarning: invalid value encountered in less\n",
      "  return (self.a < x) & (x < self.b)\n",
      "/home/phrenk/anaconda3/lib/python3.6/site-packages/scipy/stats/_distn_infrastructure.py:1735: RuntimeWarning: invalid value encountered in greater_equal\n",
      "  cond2 = (x >= self.b) & cond0\n",
      "/home/phrenk/anaconda3/lib/python3.6/site-packages/pandas/core/indexing.py:517: SettingWithCopyWarning: \n",
      "A value is trying to be set on a copy of a slice from a DataFrame.\n",
      "Try using .loc[row_indexer,col_indexer] = value instead\n",
      "\n",
      "See the caveats in the documentation: http://pandas.pydata.org/pandas-docs/stable/indexing.html#indexing-view-versus-copy\n",
      "  self.obj[item] = s\n"
     ]
    }
   ],
   "source": [
    "for i in [2011,2012,2013,2014]:\n",
    "    year0=orgs.loc[orgs['FISYR']==i-1,['TOTALPROGSERVEXP','EIN','group']]\n",
    "    year0.loc[:,'TOTALPROGSERVEXP']+=1e-3\n",
    "    year0.set_index(year0['EIN'],inplace=True)\n",
    "    year1=orgs.loc[orgs['FISYR']==i,['TOTALPROGSERVEXP','EIN','group']]\n",
    "    year1.loc[:,'TOTALPROGSERVEXP']+=1e-3\n",
    "    year1.set_index(year1['EIN'],inplace=True)\n",
    "    r=(year1/year0)\n",
    "    groups=year1['group'].unique()\n",
    "    for g in groups:\n",
    "        model=model_list[int(str(i-1)[-1])][g]\n",
    "        tmp=r[year1['group']==g]['TOTALPROGSERVEXP'].values\n",
    "        orgs_quantile.loc[(orgs_quantile['FISYR']==i)&(orgs_quantile[\"group\"]==g),'QUANTILE_PSEratio']=query(tmp,model)\n"
   ]
  },
  {
   "cell_type": "markdown",
   "metadata": {},
   "source": [
    "We save the output"
   ]
  },
  {
   "cell_type": "code",
   "execution_count": 21,
   "metadata": {
    "collapsed": true
   },
   "outputs": [],
   "source": [
    "orgs_quantile[['EIN','FISYR','QUANTILE_PSEratio']].to_csv('quantile_pse_ratio')"
   ]
  },
  {
   "cell_type": "code",
   "execution_count": 22,
   "metadata": {},
   "outputs": [
    {
     "data": {
      "text/html": [
       "<div>\n",
       "<style>\n",
       "    .dataframe thead tr:only-child th {\n",
       "        text-align: right;\n",
       "    }\n",
       "\n",
       "    .dataframe thead th {\n",
       "        text-align: left;\n",
       "    }\n",
       "\n",
       "    .dataframe tbody tr th {\n",
       "        vertical-align: top;\n",
       "    }\n",
       "</style>\n",
       "<table border=\"1\" class=\"dataframe\">\n",
       "  <thead>\n",
       "    <tr style=\"text-align: right;\">\n",
       "      <th></th>\n",
       "      <th>EIN</th>\n",
       "      <th>FISYR</th>\n",
       "      <th>QUANTILE_PSEratio</th>\n",
       "    </tr>\n",
       "  </thead>\n",
       "  <tbody>\n",
       "    <tr>\n",
       "      <th>1383886</th>\n",
       "      <td>996032457</td>\n",
       "      <td>2014</td>\n",
       "      <td>0.708421</td>\n",
       "    </tr>\n",
       "    <tr>\n",
       "      <th>1383887</th>\n",
       "      <td>996035847</td>\n",
       "      <td>2014</td>\n",
       "      <td>0.584782</td>\n",
       "    </tr>\n",
       "    <tr>\n",
       "      <th>1383888</th>\n",
       "      <td>996046220</td>\n",
       "      <td>2014</td>\n",
       "      <td>0.462131</td>\n",
       "    </tr>\n",
       "    <tr>\n",
       "      <th>1383890</th>\n",
       "      <td>996064620</td>\n",
       "      <td>2014</td>\n",
       "      <td>0.523398</td>\n",
       "    </tr>\n",
       "    <tr>\n",
       "      <th>1383892</th>\n",
       "      <td>996078202</td>\n",
       "      <td>2014</td>\n",
       "      <td>0.477344</td>\n",
       "    </tr>\n",
       "  </tbody>\n",
       "</table>\n",
       "</div>"
      ],
      "text/plain": [
       "               EIN  FISYR  QUANTILE_PSEratio\n",
       "1383886  996032457   2014           0.708421\n",
       "1383887  996035847   2014           0.584782\n",
       "1383888  996046220   2014           0.462131\n",
       "1383890  996064620   2014           0.523398\n",
       "1383892  996078202   2014           0.477344"
      ]
     },
     "execution_count": 22,
     "metadata": {},
     "output_type": "execute_result"
    }
   ],
   "source": [
    "orgs_quantile[['EIN','FISYR','QUANTILE_PSEratio']].tail()"
   ]
  }
 ],
 "metadata": {
  "kernelspec": {
   "display_name": "Python 3",
   "language": "python",
   "name": "python3"
  },
  "language_info": {
   "codemirror_mode": {
    "name": "ipython",
    "version": 3
   },
   "file_extension": ".py",
   "mimetype": "text/x-python",
   "name": "python",
   "nbconvert_exporter": "python",
   "pygments_lexer": "ipython3",
   "version": "3.6.1"
  }
 },
 "nbformat": 4,
 "nbformat_minor": 2
}
